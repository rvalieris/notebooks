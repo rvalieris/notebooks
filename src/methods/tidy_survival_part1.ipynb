{
 "cells": [
  {
   "cell_type": "code",
   "execution_count": 1,
   "id": "d7eddb19-40b8-4906-ac6f-79f14e19f766",
   "metadata": {
    "execution": {
     "iopub.execute_input": "2024-05-11T20:01:26.345739Z",
     "iopub.status.busy": "2024-05-11T20:01:26.342519Z",
     "iopub.status.idle": "2024-05-11T20:01:30.494177Z",
     "shell.execute_reply": "2024-05-11T20:01:30.492068Z"
    }
   },
   "outputs": [],
   "source": [
    "suppressPackageStartupMessages({\n",
    "library(tidyverse)\n",
    "library(tidymodels)\n",
    "library(survival)\n",
    "library(cowplot)\n",
    "library(future)\n",
    "library(censored)\n",
    "})\n",
    "theme_set(theme_cowplot())\n",
    "options(repr.plot.width = 15, repr.plot.height = 9)\n",
    "set.seed(42)"
   ]
  },
  {
   "cell_type": "code",
   "execution_count": 2,
   "id": "b95349f5-4a3f-435f-b117-0811770a2015",
   "metadata": {
    "execution": {
     "iopub.execute_input": "2024-05-11T20:01:30.539903Z",
     "iopub.status.busy": "2024-05-11T20:01:30.497586Z",
     "iopub.status.idle": "2024-05-11T20:01:30.591732Z",
     "shell.execute_reply": "2024-05-11T20:01:30.589830Z"
    }
   },
   "outputs": [],
   "source": [
    "# the multi model fitting process will use multiple cores\n",
    "plan(multicore, workers = 6)"
   ]
  },
  {
   "cell_type": "markdown",
   "id": "62d73518-d7ab-4408-aeee-e42c46690a18",
   "metadata": {},
   "source": [
    "# Comparing survival prediction models with tidymodels"
   ]
  },
  {
   "cell_type": "markdown",
   "id": "cd155f0e-013a-4e80-bca0-cb6d21119688",
   "metadata": {},
   "source": [
    "When it comes to predicting survival, we can't just do a simple regression because the dataset often includes censored data points,\n",
    "\n",
    "the most common model used in these cases is the Cox proportional hazards model,\n",
    "\n",
    "there are other options, but when considering them it is always good to check if they out-perform the cox model on your data.\n",
    "\n",
    "if you are not familiar with survival analysis, it's better to start here: http://www.sthda.com/english/wiki/survival-analysis-basics"
   ]
  },
  {
   "cell_type": "markdown",
   "id": "1cda628c-aec0-4e16-b8ca-a94c391beee8",
   "metadata": {},
   "source": [
    "# Dataset preprocessing\n",
    "To illustrate we will use a dataset from the survival package, check `?survival::pbc` for more info"
   ]
  },
  {
   "cell_type": "code",
   "execution_count": 3,
   "id": "2f862301-e22e-4c63-9df6-db791c4991dc",
   "metadata": {
    "execution": {
     "iopub.execute_input": "2024-05-11T20:01:30.596511Z",
     "iopub.status.busy": "2024-05-11T20:01:30.594266Z",
     "iopub.status.idle": "2024-05-11T20:01:30.651374Z",
     "shell.execute_reply": "2024-05-11T20:01:30.649025Z"
    }
   },
   "outputs": [
    {
     "data": {
      "text/html": [
       "<table class=\"dataframe\">\n",
       "<caption>A data.frame: 6 × 20</caption>\n",
       "<thead>\n",
       "\t<tr><th></th><th scope=col>id</th><th scope=col>time</th><th scope=col>status</th><th scope=col>trt</th><th scope=col>age</th><th scope=col>sex</th><th scope=col>ascites</th><th scope=col>hepato</th><th scope=col>spiders</th><th scope=col>edema</th><th scope=col>bili</th><th scope=col>chol</th><th scope=col>albumin</th><th scope=col>copper</th><th scope=col>alk.phos</th><th scope=col>ast</th><th scope=col>trig</th><th scope=col>platelet</th><th scope=col>protime</th><th scope=col>stage</th></tr>\n",
       "\t<tr><th></th><th scope=col>&lt;int&gt;</th><th scope=col>&lt;int&gt;</th><th scope=col>&lt;int&gt;</th><th scope=col>&lt;int&gt;</th><th scope=col>&lt;dbl&gt;</th><th scope=col>&lt;fct&gt;</th><th scope=col>&lt;int&gt;</th><th scope=col>&lt;int&gt;</th><th scope=col>&lt;int&gt;</th><th scope=col>&lt;dbl&gt;</th><th scope=col>&lt;dbl&gt;</th><th scope=col>&lt;int&gt;</th><th scope=col>&lt;dbl&gt;</th><th scope=col>&lt;int&gt;</th><th scope=col>&lt;dbl&gt;</th><th scope=col>&lt;dbl&gt;</th><th scope=col>&lt;int&gt;</th><th scope=col>&lt;int&gt;</th><th scope=col>&lt;dbl&gt;</th><th scope=col>&lt;int&gt;</th></tr>\n",
       "</thead>\n",
       "<tbody>\n",
       "\t<tr><th scope=row>1</th><td>1</td><td> 400</td><td>2</td><td>1</td><td>58.7652292950034</td><td>f</td><td>1</td><td>1</td><td>1</td><td>1.0</td><td>14.5</td><td>261</td><td>2.60</td><td>156</td><td>1718.0</td><td>137.95</td><td>172</td><td>190</td><td>12.2</td><td>4</td></tr>\n",
       "\t<tr><th scope=row>2</th><td>2</td><td>4500</td><td>0</td><td>1</td><td>56.4462696783025</td><td>f</td><td>0</td><td>1</td><td>1</td><td>0.0</td><td> 1.1</td><td>302</td><td>4.14</td><td> 54</td><td>7394.8</td><td>113.52</td><td> 88</td><td>221</td><td>10.6</td><td>3</td></tr>\n",
       "\t<tr><th scope=row>3</th><td>3</td><td>1012</td><td>2</td><td>1</td><td>70.0725530458590</td><td>m</td><td>0</td><td>0</td><td>0</td><td>0.5</td><td> 1.4</td><td>176</td><td>3.48</td><td>210</td><td> 516.0</td><td> 96.10</td><td> 55</td><td>151</td><td>12.0</td><td>4</td></tr>\n",
       "\t<tr><th scope=row>4</th><td>4</td><td>1925</td><td>2</td><td>1</td><td>54.7405886379192</td><td>f</td><td>0</td><td>1</td><td>1</td><td>0.5</td><td> 1.8</td><td>244</td><td>2.54</td><td> 64</td><td>6121.8</td><td> 60.63</td><td> 92</td><td>183</td><td>10.3</td><td>4</td></tr>\n",
       "\t<tr><th scope=row>5</th><td>5</td><td>1504</td><td>1</td><td>2</td><td>38.1054072553046</td><td>f</td><td>0</td><td>1</td><td>1</td><td>0.0</td><td> 3.4</td><td>279</td><td>3.53</td><td>143</td><td> 671.0</td><td>113.15</td><td> 72</td><td>136</td><td>10.9</td><td>3</td></tr>\n",
       "\t<tr><th scope=row>6</th><td>6</td><td>2503</td><td>2</td><td>2</td><td>66.2587268993840</td><td>f</td><td>0</td><td>1</td><td>0</td><td>0.0</td><td> 0.8</td><td>248</td><td>3.98</td><td> 50</td><td> 944.0</td><td> 93.00</td><td> 63</td><td> NA</td><td>11.0</td><td>3</td></tr>\n",
       "</tbody>\n",
       "</table>\n"
      ],
      "text/latex": [
       "A data.frame: 6 × 20\n",
       "\\begin{tabular}{r|llllllllllllllllllll}\n",
       "  & id & time & status & trt & age & sex & ascites & hepato & spiders & edema & bili & chol & albumin & copper & alk.phos & ast & trig & platelet & protime & stage\\\\\n",
       "  & <int> & <int> & <int> & <int> & <dbl> & <fct> & <int> & <int> & <int> & <dbl> & <dbl> & <int> & <dbl> & <int> & <dbl> & <dbl> & <int> & <int> & <dbl> & <int>\\\\\n",
       "\\hline\n",
       "\t1 & 1 &  400 & 2 & 1 & 58.7652292950034 & f & 1 & 1 & 1 & 1.0 & 14.5 & 261 & 2.60 & 156 & 1718.0 & 137.95 & 172 & 190 & 12.2 & 4\\\\\n",
       "\t2 & 2 & 4500 & 0 & 1 & 56.4462696783025 & f & 0 & 1 & 1 & 0.0 &  1.1 & 302 & 4.14 &  54 & 7394.8 & 113.52 &  88 & 221 & 10.6 & 3\\\\\n",
       "\t3 & 3 & 1012 & 2 & 1 & 70.0725530458590 & m & 0 & 0 & 0 & 0.5 &  1.4 & 176 & 3.48 & 210 &  516.0 &  96.10 &  55 & 151 & 12.0 & 4\\\\\n",
       "\t4 & 4 & 1925 & 2 & 1 & 54.7405886379192 & f & 0 & 1 & 1 & 0.5 &  1.8 & 244 & 2.54 &  64 & 6121.8 &  60.63 &  92 & 183 & 10.3 & 4\\\\\n",
       "\t5 & 5 & 1504 & 1 & 2 & 38.1054072553046 & f & 0 & 1 & 1 & 0.0 &  3.4 & 279 & 3.53 & 143 &  671.0 & 113.15 &  72 & 136 & 10.9 & 3\\\\\n",
       "\t6 & 6 & 2503 & 2 & 2 & 66.2587268993840 & f & 0 & 1 & 0 & 0.0 &  0.8 & 248 & 3.98 &  50 &  944.0 &  93.00 &  63 &  NA & 11.0 & 3\\\\\n",
       "\\end{tabular}\n"
      ],
      "text/markdown": [
       "\n",
       "A data.frame: 6 × 20\n",
       "\n",
       "| <!--/--> | id &lt;int&gt; | time &lt;int&gt; | status &lt;int&gt; | trt &lt;int&gt; | age &lt;dbl&gt; | sex &lt;fct&gt; | ascites &lt;int&gt; | hepato &lt;int&gt; | spiders &lt;int&gt; | edema &lt;dbl&gt; | bili &lt;dbl&gt; | chol &lt;int&gt; | albumin &lt;dbl&gt; | copper &lt;int&gt; | alk.phos &lt;dbl&gt; | ast &lt;dbl&gt; | trig &lt;int&gt; | platelet &lt;int&gt; | protime &lt;dbl&gt; | stage &lt;int&gt; |\n",
       "|---|---|---|---|---|---|---|---|---|---|---|---|---|---|---|---|---|---|---|---|---|\n",
       "| 1 | 1 |  400 | 2 | 1 | 58.7652292950034 | f | 1 | 1 | 1 | 1.0 | 14.5 | 261 | 2.60 | 156 | 1718.0 | 137.95 | 172 | 190 | 12.2 | 4 |\n",
       "| 2 | 2 | 4500 | 0 | 1 | 56.4462696783025 | f | 0 | 1 | 1 | 0.0 |  1.1 | 302 | 4.14 |  54 | 7394.8 | 113.52 |  88 | 221 | 10.6 | 3 |\n",
       "| 3 | 3 | 1012 | 2 | 1 | 70.0725530458590 | m | 0 | 0 | 0 | 0.5 |  1.4 | 176 | 3.48 | 210 |  516.0 |  96.10 |  55 | 151 | 12.0 | 4 |\n",
       "| 4 | 4 | 1925 | 2 | 1 | 54.7405886379192 | f | 0 | 1 | 1 | 0.5 |  1.8 | 244 | 2.54 |  64 | 6121.8 |  60.63 |  92 | 183 | 10.3 | 4 |\n",
       "| 5 | 5 | 1504 | 1 | 2 | 38.1054072553046 | f | 0 | 1 | 1 | 0.0 |  3.4 | 279 | 3.53 | 143 |  671.0 | 113.15 |  72 | 136 | 10.9 | 3 |\n",
       "| 6 | 6 | 2503 | 2 | 2 | 66.2587268993840 | f | 0 | 1 | 0 | 0.0 |  0.8 | 248 | 3.98 |  50 |  944.0 |  93.00 |  63 |  NA | 11.0 | 3 |\n",
       "\n"
      ],
      "text/plain": [
       "  id time status trt age              sex ascites hepato spiders edema bili\n",
       "1 1   400 2      1   58.7652292950034 f   1       1      1       1.0   14.5\n",
       "2 2  4500 0      1   56.4462696783025 f   0       1      1       0.0    1.1\n",
       "3 3  1012 2      1   70.0725530458590 m   0       0      0       0.5    1.4\n",
       "4 4  1925 2      1   54.7405886379192 f   0       1      1       0.5    1.8\n",
       "5 5  1504 1      2   38.1054072553046 f   0       1      1       0.0    3.4\n",
       "6 6  2503 2      2   66.2587268993840 f   0       1      0       0.0    0.8\n",
       "  chol albumin copper alk.phos ast    trig platelet protime stage\n",
       "1 261  2.60    156    1718.0   137.95 172  190      12.2    4    \n",
       "2 302  4.14     54    7394.8   113.52  88  221      10.6    3    \n",
       "3 176  3.48    210     516.0    96.10  55  151      12.0    4    \n",
       "4 244  2.54     64    6121.8    60.63  92  183      10.3    4    \n",
       "5 279  3.53    143     671.0   113.15  72  136      10.9    3    \n",
       "6 248  3.98     50     944.0    93.00  63   NA      11.0    3    "
      ]
     },
     "metadata": {},
     "output_type": "display_data"
    }
   ],
   "source": [
    "head(pbc)"
   ]
  },
  {
   "cell_type": "code",
   "execution_count": 4,
   "id": "b219d3ec-3ba9-4358-925f-f9d5d928f9c3",
   "metadata": {
    "execution": {
     "iopub.execute_input": "2024-05-11T20:01:30.656497Z",
     "iopub.status.busy": "2024-05-11T20:01:30.654920Z",
     "iopub.status.idle": "2024-05-11T20:01:30.683784Z",
     "shell.execute_reply": "2024-05-11T20:01:30.681469Z"
    }
   },
   "outputs": [
    {
     "data": {
      "text/html": [
       "<style>\n",
       ".list-inline {list-style: none; margin:0; padding: 0}\n",
       ".list-inline>li {display: inline-block}\n",
       ".list-inline>li:not(:last-child)::after {content: \"\\00b7\"; padding: 0 .5ex}\n",
       "</style>\n",
       "<ol class=list-inline><li>276</li><li>21</li></ol>\n"
      ],
      "text/latex": [
       "\\begin{enumerate*}\n",
       "\\item 276\n",
       "\\item 21\n",
       "\\end{enumerate*}\n"
      ],
      "text/markdown": [
       "1. 276\n",
       "2. 21\n",
       "\n",
       "\n"
      ],
      "text/plain": [
       "[1] 276  21"
      ]
     },
     "metadata": {},
     "output_type": "display_data"
    }
   ],
   "source": [
    "data <- \n",
    "    # remove rows with missing data\n",
    "    na.omit(pbc) |> \n",
    "    # the surv variable will be our outcome\n",
    "    mutate(surv=Surv(time, status==2)) \n",
    "dim(data)"
   ]
  },
  {
   "cell_type": "code",
   "execution_count": 5,
   "id": "9a5a8a56-8783-483c-8250-d78ec1a22a5e",
   "metadata": {
    "execution": {
     "iopub.execute_input": "2024-05-11T20:01:30.689185Z",
     "iopub.status.busy": "2024-05-11T20:01:30.687380Z",
     "iopub.status.idle": "2024-05-11T20:01:30.723221Z",
     "shell.execute_reply": "2024-05-11T20:01:30.720874Z"
    }
   },
   "outputs": [],
   "source": [
    "# separate 20% of the dataset for testing the models later\n",
    "data_split <- initial_split(data, prop = 0.8, strata=time)"
   ]
  },
  {
   "cell_type": "code",
   "execution_count": 6,
   "id": "46c25647-2f79-4f1e-8a00-0d5188f6c409",
   "metadata": {
    "execution": {
     "iopub.execute_input": "2024-05-11T20:01:30.728950Z",
     "iopub.status.busy": "2024-05-11T20:01:30.726581Z",
     "iopub.status.idle": "2024-05-11T20:01:30.762252Z",
     "shell.execute_reply": "2024-05-11T20:01:30.760077Z"
    }
   },
   "outputs": [],
   "source": [
    "# create a recipe, to prepare the data for fitting\n",
    "rec <- recipe(surv ~ ., data=data) |>\n",
    "    # remove uneeded variables\n",
    "    step_rm(time, status, id) |> \n",
    "    # remove variables with zero variance\n",
    "    step_zv(all_predictors()) |> \n",
    "    # transform factors into integers\n",
    "    step_integer(all_nominal_predictors()) "
   ]
  },
  {
   "cell_type": "markdown",
   "id": "27b42d9a-4ea3-4b77-80d6-cf8f0631c731",
   "metadata": {},
   "source": [
    "# Model definitions\n",
    "These are the models we will be testing, they are provided by the [censored](https://censored.tidymodels.org) package.\n",
    "\n",
    "note that some models, such as random forest, have hyper-parameters,\n",
    "\n",
    "these parameters are tunable, we will tune some of them to illustrate."
   ]
  },
  {
   "cell_type": "code",
   "execution_count": 7,
   "id": "9e0acf4a-e24e-4b47-a29f-2d0a778a2083",
   "metadata": {
    "execution": {
     "iopub.execute_input": "2024-05-11T20:01:30.766824Z",
     "iopub.status.busy": "2024-05-11T20:01:30.765235Z",
     "iopub.status.idle": "2024-05-11T20:01:30.798648Z",
     "shell.execute_reply": "2024-05-11T20:01:30.796562Z"
    }
   },
   "outputs": [],
   "source": [
    "models <- list(\n",
    "    cox_ph_survival = proportional_hazards(engine='survival'),\n",
    "    cox_ph_glmnet = proportional_hazards(penalty=tune(), mixture=tune(), engine='glmnet'),\n",
    "    survreg_flexsurv = survival_reg(engine='flexsurv'),\n",
    "    rand_forest_partykit = rand_forest(trees = tune(), engine='partykit'),\n",
    "    rand_forest_aorsf = rand_forest(trees = tune(), engine='aorsf'),\n",
    "    decision_tree_partykit = decision_tree(engine='partykit'),\n",
    "    boost_tree_mboost = boost_tree(trees = tune(), engine='mboost')\n",
    ") |>\n",
    "map(~set_mode(.x,'censored regression'))"
   ]
  },
  {
   "cell_type": "code",
   "execution_count": 8,
   "id": "15b19b62-994d-49d4-9e66-31ddfd831350",
   "metadata": {
    "execution": {
     "iopub.execute_input": "2024-05-11T20:01:30.803591Z",
     "iopub.status.busy": "2024-05-11T20:01:30.801897Z",
     "iopub.status.idle": "2024-05-11T20:01:30.861073Z",
     "shell.execute_reply": "2024-05-11T20:01:30.859055Z"
    },
    "scrolled": true
   },
   "outputs": [],
   "source": [
    "wsets <- workflow_set(\n",
    "    preproc=list(rec),\n",
    "    models=models\n",
    ")"
   ]
  },
  {
   "cell_type": "markdown",
   "id": "2ce9998d-2235-45cc-9c11-34f296a675ec",
   "metadata": {},
   "source": [
    "# Model fitting\n",
    "\n",
    "Now, we fit all the models with our training data, \n",
    "\n",
    "to evaluate which model is best, we will use cross-validation resampling, so each model will be fitted multiple times\n",
    "\n",
    "if there are tunable parameters, multiple fits will be done for each candidate parameter set, \n",
    "\n",
    "the number of candidates tested is controlled by the grid argument below."
   ]
  },
  {
   "cell_type": "code",
   "execution_count": 9,
   "id": "10ff346a-643e-40f2-95d8-8534bdf0e444",
   "metadata": {
    "execution": {
     "iopub.execute_input": "2024-05-11T20:01:30.866225Z",
     "iopub.status.busy": "2024-05-11T20:01:30.864530Z",
     "iopub.status.idle": "2024-05-11T20:01:30.896397Z",
     "shell.execute_reply": "2024-05-11T20:01:30.893827Z"
    }
   },
   "outputs": [],
   "source": [
    "# 5-fold cross-validation resampling for the tunning and comparisons\n",
    "folds <- vfold_cv(training(data_split), v=5, strata=time)"
   ]
  },
  {
   "cell_type": "code",
   "execution_count": 10,
   "id": "150c08e2-cbb0-406b-9991-a3aeeab5c001",
   "metadata": {
    "execution": {
     "iopub.execute_input": "2024-05-11T20:01:30.901426Z",
     "iopub.status.busy": "2024-05-11T20:01:30.899564Z",
     "iopub.status.idle": "2024-05-11T20:12:53.497930Z",
     "shell.execute_reply": "2024-05-11T20:12:53.495221Z"
    }
   },
   "outputs": [],
   "source": [
    "res <- workflow_map(\n",
    "    wsets,\n",
    "    \"tune_grid\",\n",
    "    seed = 42,\n",
    "    grid = 10,\n",
    "    resamples = folds,\n",
    "    # this metric will be calculated for each fit\n",
    "    metrics=metric_set(concordance_survival)\n",
    ")"
   ]
  },
  {
   "cell_type": "markdown",
   "id": "15c32ed7-71bc-4036-b64b-0f7b27d31bac",
   "metadata": {},
   "source": [
    "# Metrics\n",
    "\n",
    "During the fit, the [concordance index](https://yardstick.tidymodels.org/reference/concordance_survival.html) was calculated for each combination,\n",
    "\n",
    "now we can gather these results and build a table:"
   ]
  },
  {
   "cell_type": "code",
   "execution_count": 11,
   "id": "cd1203ae-cd04-423a-9fec-74d5ae36a042",
   "metadata": {
    "execution": {
     "iopub.execute_input": "2024-05-11T20:12:53.503458Z",
     "iopub.status.busy": "2024-05-11T20:12:53.501619Z",
     "iopub.status.idle": "2024-05-11T20:12:53.763846Z",
     "shell.execute_reply": "2024-05-11T20:12:53.761772Z"
    }
   },
   "outputs": [
    {
     "data": {
      "text/html": [
       "<table class=\"dataframe\">\n",
       "<caption>A tibble: 7 × 6</caption>\n",
       "<thead>\n",
       "\t<tr><th scope=col>wflow_id</th><th scope=col>.config</th><th scope=col>model</th><th scope=col>mean</th><th scope=col>std_err</th><th scope=col>label</th></tr>\n",
       "\t<tr><th scope=col>&lt;chr&gt;</th><th scope=col>&lt;chr&gt;</th><th scope=col>&lt;chr&gt;</th><th scope=col>&lt;dbl&gt;</th><th scope=col>&lt;dbl&gt;</th><th scope=col>&lt;chr&gt;</th></tr>\n",
       "</thead>\n",
       "<tbody>\n",
       "\t<tr><td>recipe_cox_ph_survival       </td><td>Preprocessor1_Model1 </td><td>proportional_hazards</td><td>0.809202426920204</td><td>0.0246510956539134</td><td>cox_ph_survival       </td></tr>\n",
       "\t<tr><td>recipe_cox_ph_glmnet         </td><td>Preprocessor1_Model02</td><td>proportional_hazards</td><td>0.827374478729870</td><td>0.0260384841178290</td><td>cox_ph_glmnet         </td></tr>\n",
       "\t<tr><td>recipe_survreg_flexsurv      </td><td>Preprocessor1_Model1 </td><td>survival_reg        </td><td>0.812798987394412</td><td>0.0254010738957239</td><td>survreg_flexsurv      </td></tr>\n",
       "\t<tr><td>recipe_rand_forest_partykit  </td><td>Preprocessor1_Model03</td><td>rand_forest         </td><td>0.832411219728944</td><td>0.0195804127464225</td><td>rand_forest_partykit  </td></tr>\n",
       "\t<tr><td>recipe_rand_forest_aorsf     </td><td>Preprocessor1_Model08</td><td>rand_forest         </td><td>0.848819770177259</td><td>0.0249418414304294</td><td>rand_forest_aorsf     </td></tr>\n",
       "\t<tr><td>recipe_decision_tree_partykit</td><td>Preprocessor1_Model1 </td><td>decision_tree       </td><td>0.725301941041225</td><td>0.0341123982952786</td><td>decision_tree_partykit</td></tr>\n",
       "\t<tr><td>recipe_boost_tree_mboost     </td><td>Preprocessor1_Model08</td><td>boost_tree          </td><td>0.820025751587363</td><td>0.0252241065143019</td><td>boost_tree_mboost     </td></tr>\n",
       "</tbody>\n",
       "</table>\n"
      ],
      "text/latex": [
       "A tibble: 7 × 6\n",
       "\\begin{tabular}{llllll}\n",
       " wflow\\_id & .config & model & mean & std\\_err & label\\\\\n",
       " <chr> & <chr> & <chr> & <dbl> & <dbl> & <chr>\\\\\n",
       "\\hline\n",
       "\t recipe\\_cox\\_ph\\_survival        & Preprocessor1\\_Model1  & proportional\\_hazards & 0.809202426920204 & 0.0246510956539134 & cox\\_ph\\_survival       \\\\\n",
       "\t recipe\\_cox\\_ph\\_glmnet          & Preprocessor1\\_Model02 & proportional\\_hazards & 0.827374478729870 & 0.0260384841178290 & cox\\_ph\\_glmnet         \\\\\n",
       "\t recipe\\_survreg\\_flexsurv       & Preprocessor1\\_Model1  & survival\\_reg         & 0.812798987394412 & 0.0254010738957239 & survreg\\_flexsurv      \\\\\n",
       "\t recipe\\_rand\\_forest\\_partykit   & Preprocessor1\\_Model03 & rand\\_forest          & 0.832411219728944 & 0.0195804127464225 & rand\\_forest\\_partykit  \\\\\n",
       "\t recipe\\_rand\\_forest\\_aorsf      & Preprocessor1\\_Model08 & rand\\_forest          & 0.848819770177259 & 0.0249418414304294 & rand\\_forest\\_aorsf     \\\\\n",
       "\t recipe\\_decision\\_tree\\_partykit & Preprocessor1\\_Model1  & decision\\_tree        & 0.725301941041225 & 0.0341123982952786 & decision\\_tree\\_partykit\\\\\n",
       "\t recipe\\_boost\\_tree\\_mboost      & Preprocessor1\\_Model08 & boost\\_tree           & 0.820025751587363 & 0.0252241065143019 & boost\\_tree\\_mboost     \\\\\n",
       "\\end{tabular}\n"
      ],
      "text/markdown": [
       "\n",
       "A tibble: 7 × 6\n",
       "\n",
       "| wflow_id &lt;chr&gt; | .config &lt;chr&gt; | model &lt;chr&gt; | mean &lt;dbl&gt; | std_err &lt;dbl&gt; | label &lt;chr&gt; |\n",
       "|---|---|---|---|---|---|\n",
       "| recipe_cox_ph_survival        | Preprocessor1_Model1  | proportional_hazards | 0.809202426920204 | 0.0246510956539134 | cox_ph_survival        |\n",
       "| recipe_cox_ph_glmnet          | Preprocessor1_Model02 | proportional_hazards | 0.827374478729870 | 0.0260384841178290 | cox_ph_glmnet          |\n",
       "| recipe_survreg_flexsurv       | Preprocessor1_Model1  | survival_reg         | 0.812798987394412 | 0.0254010738957239 | survreg_flexsurv       |\n",
       "| recipe_rand_forest_partykit   | Preprocessor1_Model03 | rand_forest          | 0.832411219728944 | 0.0195804127464225 | rand_forest_partykit   |\n",
       "| recipe_rand_forest_aorsf      | Preprocessor1_Model08 | rand_forest          | 0.848819770177259 | 0.0249418414304294 | rand_forest_aorsf      |\n",
       "| recipe_decision_tree_partykit | Preprocessor1_Model1  | decision_tree        | 0.725301941041225 | 0.0341123982952786 | decision_tree_partykit |\n",
       "| recipe_boost_tree_mboost      | Preprocessor1_Model08 | boost_tree           | 0.820025751587363 | 0.0252241065143019 | boost_tree_mboost      |\n",
       "\n"
      ],
      "text/plain": [
       "  wflow_id                      .config               model               \n",
       "1 recipe_cox_ph_survival        Preprocessor1_Model1  proportional_hazards\n",
       "2 recipe_cox_ph_glmnet          Preprocessor1_Model02 proportional_hazards\n",
       "3 recipe_survreg_flexsurv       Preprocessor1_Model1  survival_reg        \n",
       "4 recipe_rand_forest_partykit   Preprocessor1_Model03 rand_forest         \n",
       "5 recipe_rand_forest_aorsf      Preprocessor1_Model08 rand_forest         \n",
       "6 recipe_decision_tree_partykit Preprocessor1_Model1  decision_tree       \n",
       "7 recipe_boost_tree_mboost      Preprocessor1_Model08 boost_tree          \n",
       "  mean              std_err            label                 \n",
       "1 0.809202426920204 0.0246510956539134 cox_ph_survival       \n",
       "2 0.827374478729870 0.0260384841178290 cox_ph_glmnet         \n",
       "3 0.812798987394412 0.0254010738957239 survreg_flexsurv      \n",
       "4 0.832411219728944 0.0195804127464225 rand_forest_partykit  \n",
       "5 0.848819770177259 0.0249418414304294 rand_forest_aorsf     \n",
       "6 0.725301941041225 0.0341123982952786 decision_tree_partykit\n",
       "7 0.820025751587363 0.0252241065143019 boost_tree_mboost     "
      ]
     },
     "metadata": {},
     "output_type": "display_data"
    }
   ],
   "source": [
    "# collect metrics from the result object\n",
    "m <- collect_metrics(res)\n",
    "# remove a few unrelated columns\n",
    "mb <- mutate(m,\n",
    "    label = gsub('recipe_', '', wflow_id),\n",
    "    preproc=NULL,\n",
    "    .estimator=NULL,\n",
    "    n=NULL,\n",
    "    .metric=NULL\n",
    ") |>\n",
    "# select the best parameter set for each model, according to the metric\n",
    "slice_max(mean, by=label, n=1, with_ties=FALSE)\n",
    "mb"
   ]
  },
  {
   "cell_type": "markdown",
   "id": "bdb1201a-9d02-4577-9d7b-95cb5c7d6dee",
   "metadata": {},
   "source": [
    "Note that since we are using cross-validation, each model was fitted multiple times, so we have a mean and std_err.\n",
    "\n",
    "we can also fit these models with the 20% test data we separated earlier:"
   ]
  },
  {
   "cell_type": "code",
   "execution_count": 12,
   "id": "730bf19f-a7eb-48f6-8edd-72e338304677",
   "metadata": {
    "execution": {
     "iopub.execute_input": "2024-05-11T20:12:53.769539Z",
     "iopub.status.busy": "2024-05-11T20:12:53.767446Z",
     "iopub.status.idle": "2024-05-11T20:13:46.848989Z",
     "shell.execute_reply": "2024-05-11T20:13:46.847180Z"
    },
    "scrolled": true
   },
   "outputs": [],
   "source": [
    "final_fits <- \n",
    "    # map across each model in the table above\n",
    "    set_names(mb$wflow_id) |>\n",
    "    map(function(wi) {\n",
    "        # select the best model config, in case of tunnable parameters\n",
    "        bwr <- extract_workflow_set_result(res, wi)\n",
    "        best_params <- select_best(bwr, metric='concordance_survival')\n",
    "        bw <- finalize_workflow(\n",
    "            extract_workflow(res, wi), \n",
    "            best_params\n",
    "        )\n",
    "    \n",
    "        # re-fit the best config with the initial 80% train / 20% test\n",
    "        last_fit(\n",
    "            bw,\n",
    "            split = data_split,\n",
    "            metrics = metric_set(concordance_survival)\n",
    "        )\n",
    "    })"
   ]
  },
  {
   "cell_type": "code",
   "execution_count": 13,
   "id": "c0929804-35fd-4a2f-a5c7-2fe92df395b2",
   "metadata": {
    "execution": {
     "iopub.execute_input": "2024-05-11T20:13:46.853046Z",
     "iopub.status.busy": "2024-05-11T20:13:46.851638Z",
     "iopub.status.idle": "2024-05-11T20:13:46.882555Z",
     "shell.execute_reply": "2024-05-11T20:13:46.880236Z"
    },
    "scrolled": true
   },
   "outputs": [
    {
     "data": {
      "text/html": [
       "<table class=\"dataframe\">\n",
       "<caption>A tibble: 7 × 2</caption>\n",
       "<thead>\n",
       "\t<tr><th scope=col>wflow_id</th><th scope=col>test_metric</th></tr>\n",
       "\t<tr><th scope=col>&lt;chr&gt;</th><th scope=col>&lt;dbl&gt;</th></tr>\n",
       "</thead>\n",
       "<tbody>\n",
       "\t<tr><td>recipe_cox_ph_survival       </td><td>0.870346598202824</td></tr>\n",
       "\t<tr><td>recipe_cox_ph_glmnet         </td><td>0.884467265725289</td></tr>\n",
       "\t<tr><td>recipe_survreg_flexsurv      </td><td>0.871630295250321</td></tr>\n",
       "\t<tr><td>recipe_rand_forest_partykit  </td><td>0.889602053915276</td></tr>\n",
       "\t<tr><td>recipe_rand_forest_aorsf     </td><td>0.889602053915276</td></tr>\n",
       "\t<tr><td>recipe_decision_tree_partykit</td><td>0.819640564826701</td></tr>\n",
       "\t<tr><td>recipe_boost_tree_mboost     </td><td>0.875481386392811</td></tr>\n",
       "</tbody>\n",
       "</table>\n"
      ],
      "text/latex": [
       "A tibble: 7 × 2\n",
       "\\begin{tabular}{ll}\n",
       " wflow\\_id & test\\_metric\\\\\n",
       " <chr> & <dbl>\\\\\n",
       "\\hline\n",
       "\t recipe\\_cox\\_ph\\_survival        & 0.870346598202824\\\\\n",
       "\t recipe\\_cox\\_ph\\_glmnet          & 0.884467265725289\\\\\n",
       "\t recipe\\_survreg\\_flexsurv       & 0.871630295250321\\\\\n",
       "\t recipe\\_rand\\_forest\\_partykit   & 0.889602053915276\\\\\n",
       "\t recipe\\_rand\\_forest\\_aorsf      & 0.889602053915276\\\\\n",
       "\t recipe\\_decision\\_tree\\_partykit & 0.819640564826701\\\\\n",
       "\t recipe\\_boost\\_tree\\_mboost      & 0.875481386392811\\\\\n",
       "\\end{tabular}\n"
      ],
      "text/markdown": [
       "\n",
       "A tibble: 7 × 2\n",
       "\n",
       "| wflow_id &lt;chr&gt; | test_metric &lt;dbl&gt; |\n",
       "|---|---|\n",
       "| recipe_cox_ph_survival        | 0.870346598202824 |\n",
       "| recipe_cox_ph_glmnet          | 0.884467265725289 |\n",
       "| recipe_survreg_flexsurv       | 0.871630295250321 |\n",
       "| recipe_rand_forest_partykit   | 0.889602053915276 |\n",
       "| recipe_rand_forest_aorsf      | 0.889602053915276 |\n",
       "| recipe_decision_tree_partykit | 0.819640564826701 |\n",
       "| recipe_boost_tree_mboost      | 0.875481386392811 |\n",
       "\n"
      ],
      "text/plain": [
       "  wflow_id                      test_metric      \n",
       "1 recipe_cox_ph_survival        0.870346598202824\n",
       "2 recipe_cox_ph_glmnet          0.884467265725289\n",
       "3 recipe_survreg_flexsurv       0.871630295250321\n",
       "4 recipe_rand_forest_partykit   0.889602053915276\n",
       "5 recipe_rand_forest_aorsf      0.889602053915276\n",
       "6 recipe_decision_tree_partykit 0.819640564826701\n",
       "7 recipe_boost_tree_mboost      0.875481386392811"
      ]
     },
     "metadata": {},
     "output_type": "display_data"
    }
   ],
   "source": [
    "test_m <-\n",
    "    # collect the metrics of the final model\n",
    "    map(final_fits, collect_metrics) |>\n",
    "    bind_rows(.id='wflow_id') |>\n",
    "    select(wflow_id, test_metric=.estimate)\n",
    "\n",
    "test_m"
   ]
  },
  {
   "cell_type": "markdown",
   "id": "b653b517-0f4c-4578-a1a7-f82ddc0a9970",
   "metadata": {
    "execution": {
     "iopub.execute_input": "2024-05-11T14:39:18.577796Z",
     "iopub.status.busy": "2024-05-11T14:39:18.571112Z",
     "iopub.status.idle": "2024-05-11T14:39:18.597645Z",
     "shell.execute_reply": "2024-05-11T14:39:18.594554Z"
    }
   },
   "source": [
    "To make it easier to visualize all these results, we can make a plot\n",
    "\n",
    "the validation mean and std_err will be plotted in black as a point and error bar,\n",
    "\n",
    "and for comparison, we added a cross to indicate the score of the fully fitted model on the test set."
   ]
  },
  {
   "cell_type": "code",
   "execution_count": 14,
   "id": "d78c3c6e-adf1-4080-a7e0-ebb632136f61",
   "metadata": {
    "execution": {
     "iopub.execute_input": "2024-05-11T20:13:46.887758Z",
     "iopub.status.busy": "2024-05-11T20:13:46.885916Z",
     "iopub.status.idle": "2024-05-11T20:13:47.362895Z",
     "shell.execute_reply": "2024-05-11T20:13:47.360251Z"
    }
   },
   "outputs": [
    {
     "data": {
      "image/png": "[encoded data removed]",
      "text/plain": [
       "plot without title"
      ]
     },
     "metadata": {
      "image/png": {
       "height": 540,
       "width": 900
      }
     },
     "output_type": "display_data"
    }
   ],
   "source": [
    "inner_join(mb, test_m, by='wflow_id') |>\n",
    "ggplot(aes(y=fct_reorder(label,mean), x=mean)) +\n",
    "geom_point(size=4) +\n",
    "geom_point(aes(x=test_metric), shape=3, size=3, stroke=3, color='darkred') +\n",
    "geom_pointrange(aes(xmin=mean-std_err, xmax=mean+std_err)) +\n",
    "labs(x='concordance index', y='models')"
   ]
  },
  {
   "cell_type": "markdown",
   "id": "1a35bc1f-1cd3-4873-be75-8a7af28e6757",
   "metadata": {},
   "source": [
    "Needless to say, you shouldn't assume the best model here will also be the best in other datasets,\n",
    "always test on your data."
   ]
  },
  {
   "cell_type": "markdown",
   "id": "46a53a8b-336c-4d7b-88d8-1b6d8102c1e5",
   "metadata": {},
   "source": [
    "# Variable importance\n",
    "\n",
    "Once we decide which model we want to use, we can extract the model object, and do further analyses,\n",
    "\n",
    "such as ranking the dataset variables by how important the model scored them."
   ]
  },
  {
   "cell_type": "code",
   "execution_count": 15,
   "id": "eb42cce3-2f33-42b9-9b84-858ab1b18214",
   "metadata": {
    "execution": {
     "iopub.execute_input": "2024-05-11T20:13:47.367507Z",
     "iopub.status.busy": "2024-05-11T20:13:47.365804Z",
     "iopub.status.idle": "2024-05-11T20:13:47.386494Z",
     "shell.execute_reply": "2024-05-11T20:13:47.384496Z"
    }
   },
   "outputs": [
    {
     "data": {
      "text/html": [
       "<style>\n",
       ".list-inline {list-style: none; margin:0; padding: 0}\n",
       ".list-inline>li {display: inline-block}\n",
       ".list-inline>li:not(:last-child)::after {content: \"\\00b7\"; padding: 0 .5ex}\n",
       "</style>\n",
       "<ol class=list-inline><li>'recipe_cox_ph_survival'</li><li>'recipe_cox_ph_glmnet'</li><li>'recipe_survreg_flexsurv'</li><li>'recipe_rand_forest_partykit'</li><li>'recipe_rand_forest_aorsf'</li><li>'recipe_decision_tree_partykit'</li><li>'recipe_boost_tree_mboost'</li></ol>\n"
      ],
      "text/latex": [
       "\\begin{enumerate*}\n",
       "\\item 'recipe\\_cox\\_ph\\_survival'\n",
       "\\item 'recipe\\_cox\\_ph\\_glmnet'\n",
       "\\item 'recipe\\_survreg\\_flexsurv'\n",
       "\\item 'recipe\\_rand\\_forest\\_partykit'\n",
       "\\item 'recipe\\_rand\\_forest\\_aorsf'\n",
       "\\item 'recipe\\_decision\\_tree\\_partykit'\n",
       "\\item 'recipe\\_boost\\_tree\\_mboost'\n",
       "\\end{enumerate*}\n"
      ],
      "text/markdown": [
       "1. 'recipe_cox_ph_survival'\n",
       "2. 'recipe_cox_ph_glmnet'\n",
       "3. 'recipe_survreg_flexsurv'\n",
       "4. 'recipe_rand_forest_partykit'\n",
       "5. 'recipe_rand_forest_aorsf'\n",
       "6. 'recipe_decision_tree_partykit'\n",
       "7. 'recipe_boost_tree_mboost'\n",
       "\n",
       "\n"
      ],
      "text/plain": [
       "[1] \"recipe_cox_ph_survival\"        \"recipe_cox_ph_glmnet\"         \n",
       "[3] \"recipe_survreg_flexsurv\"       \"recipe_rand_forest_partykit\"  \n",
       "[5] \"recipe_rand_forest_aorsf\"      \"recipe_decision_tree_partykit\"\n",
       "[7] \"recipe_boost_tree_mboost\"     "
      ]
     },
     "metadata": {},
     "output_type": "display_data"
    }
   ],
   "source": [
    "names(final_fits)"
   ]
  },
  {
   "cell_type": "code",
   "execution_count": 16,
   "id": "f4ee980b-3026-4124-a3e6-b776f1c0a4db",
   "metadata": {
    "execution": {
     "iopub.execute_input": "2024-05-11T20:13:47.393041Z",
     "iopub.status.busy": "2024-05-11T20:13:47.390336Z",
     "iopub.status.idle": "2024-05-11T20:13:47.417045Z",
     "shell.execute_reply": "2024-05-11T20:13:47.414971Z"
    },
    "scrolled": true
   },
   "outputs": [
    {
     "data": {
      "text/plain": [
       "---------- Oblique random survival forest\n",
       "\n",
       "     Linear combinations: Accelerated Cox regression\n",
       "          N observations: 220\n",
       "                N events: 89\n",
       "                 N trees: 84\n",
       "      N predictors total: 17\n",
       "   N predictors per node: 5\n",
       " Average leaves per tree: 17.3928571428571\n",
       "Min observations in leaf: 5\n",
       "      Min events in leaf: 1\n",
       "          OOB stat value: 0.83\n",
       "           OOB stat type: Harrell's C-index\n",
       "     Variable importance: anova\n",
       "\n",
       "-----------------------------------------"
      ]
     },
     "metadata": {},
     "output_type": "display_data"
    }
   ],
   "source": [
    "aorsf_obj <-\n",
    "    final_fits[['recipe_rand_forest_aorsf']] |>\n",
    "    extract_fit_engine()\n",
    "aorsf_obj"
   ]
  },
  {
   "cell_type": "code",
   "execution_count": 17,
   "id": "d64dc18e-0171-4e6a-bca0-6913c1567e88",
   "metadata": {
    "execution": {
     "iopub.execute_input": "2024-05-11T20:13:47.421966Z",
     "iopub.status.busy": "2024-05-11T20:13:47.420039Z",
     "iopub.status.idle": "2024-05-11T20:13:47.791303Z",
     "shell.execute_reply": "2024-05-11T20:13:47.788683Z"
    }
   },
   "outputs": [
    {
     "data": {
      "image/png": "[encoded data removed]",
      "text/plain": [
       "plot without title"
      ]
     },
     "metadata": {
      "image/png": {
       "height": 540,
       "width": 900
      }
     },
     "output_type": "display_data"
    }
   ],
   "source": [
    "aorsf_obj$get_importance_clean() |>\n",
    "enframe() |>\n",
    "ggplot(aes(y=fct_reorder(name, value), x=value)) +\n",
    "geom_col() +\n",
    "labs(x='aorsf model variable importance', y='variable')"
   ]
  },
  {
   "cell_type": "code",
   "execution_count": null,
   "id": "f88761af-0018-4dcc-a70e-d87e761b971a",
   "metadata": {},
   "outputs": [],
   "source": []
  }
 ],
 "metadata": {
  "kernelspec": {
   "display_name": "R",
   "language": "R",
   "name": "ir"
  },
  "language_info": {
   "codemirror_mode": "r",
   "file_extension": ".r",
   "mimetype": "text/x-r-source",
   "name": "R",
   "pygments_lexer": "r",
   "version": "4.4.0"
  }
 },
 "nbformat": 4,
 "nbformat_minor": 5
}
